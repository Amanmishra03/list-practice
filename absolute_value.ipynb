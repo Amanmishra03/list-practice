{
 "cells": [
  {
   "cell_type": "markdown",
   "metadata": {},
   "source": [
    "Write a program that uses a lambda expression and the map function to convert a list of integers to their absolute values. Print the new list."
   ]
  },
  {
   "cell_type": "code",
   "execution_count": 2,
   "metadata": {},
   "outputs": [
    {
     "name": "stdout",
     "output_type": "stream",
     "text": [
      "[5, 5, 5, 2, 1, 3]\n",
      "[5, 5, 5, 2, 1, 3]\n"
     ]
    }
   ],
   "source": [
    "l1 = []\n",
    "user = int(input('enter the no. you want in list '))\n",
    "for i in range(user):\n",
    "    x = int(input('enter the no. '))\n",
    "    l1.append(x)\n",
    "print(l1)\n",
    "f = list(map(lambda c: abs(c), l1))\n",
    "print(f)"
   ]
  }
 ],
 "metadata": {
  "kernelspec": {
   "display_name": "base",
   "language": "python",
   "name": "python3"
  },
  "language_info": {
   "codemirror_mode": {
    "name": "ipython",
    "version": 3
   },
   "file_extension": ".py",
   "mimetype": "text/x-python",
   "name": "python",
   "nbconvert_exporter": "python",
   "pygments_lexer": "ipython3",
   "version": "3.11.5"
  }
 },
 "nbformat": 4,
 "nbformat_minor": 2
}
