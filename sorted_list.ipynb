{
 "cells": [
  {
   "cell_type": "markdown",
   "metadata": {},
   "source": [
    "Write a program that creates a list of strings and then sorts the list alphabetically. Print the sorted list."
   ]
  },
  {
   "cell_type": "code",
   "execution_count": null,
   "metadata": {},
   "outputs": [],
   "source": [
    "l1 = ['Bhuvan','Zakir','Chaman','Adarsh','Amjad','Aman']\n",
    "l2 = sorted(l1)\n",
    "print(l2)"
   ]
  },
  {
   "cell_type": "code",
   "execution_count": null,
   "metadata": {},
   "outputs": [],
   "source": [
    "l1 = []\n",
    "num = int(input('enter how many alphabet you want in list '))\n",
    "\n",
    "for i in range (num):\n",
    "    x = input('enter the alphabet in the list ')\n",
    "    l1.append(x)\n",
    "    \n",
    "sorting_list = sorted(l1)\n",
    "print(sorting_list)\n",
    "# print(type(l1))"
   ]
  },
  {
   "cell_type": "markdown",
   "metadata": {},
   "source": [
    "if we make l2 a new variable then its type is none and list is not printed"
   ]
  },
  {
   "cell_type": "code",
   "execution_count": 8,
   "metadata": {},
   "outputs": [
    {
     "ename": "TypeError",
     "evalue": "'NoneType' object is not iterable",
     "output_type": "error",
     "traceback": [
      "\u001b[1;31m---------------------------------------------------------------------------\u001b[0m",
      "\u001b[1;31mTypeError\u001b[0m                                 Traceback (most recent call last)",
      "\u001b[1;32md:\\Programming\\list practice\\sorted_list.ipynb Cell 4\u001b[0m line \u001b[0;36m8\n\u001b[0;32m      <a href='vscode-notebook-cell:/d%3A/Programming/list%20practice/sorted_list.ipynb#W5sZmlsZQ%3D%3D?line=4'>5</a>\u001b[0m     x \u001b[39m=\u001b[39m \u001b[39minput\u001b[39m(\u001b[39m'\u001b[39m\u001b[39menter the alphabet in the list \u001b[39m\u001b[39m'\u001b[39m)\n\u001b[0;32m      <a href='vscode-notebook-cell:/d%3A/Programming/list%20practice/sorted_list.ipynb#W5sZmlsZQ%3D%3D?line=5'>6</a>\u001b[0m     l2 \u001b[39m=\u001b[39m l1\u001b[39m.\u001b[39mappend(x)\n\u001b[1;32m----> <a href='vscode-notebook-cell:/d%3A/Programming/list%20practice/sorted_list.ipynb#W5sZmlsZQ%3D%3D?line=7'>8</a>\u001b[0m sorting_list \u001b[39m=\u001b[39m \u001b[39msorted\u001b[39m(l2)\n\u001b[0;32m      <a href='vscode-notebook-cell:/d%3A/Programming/list%20practice/sorted_list.ipynb#W5sZmlsZQ%3D%3D?line=8'>9</a>\u001b[0m \u001b[39mprint\u001b[39m(sorting_list)\n",
      "\u001b[1;31mTypeError\u001b[0m: 'NoneType' object is not iterable"
     ]
    }
   ],
   "source": [
    "l1 = []\n",
    "num = int(input('enter the alphabet you want in list '))\n",
    "\n",
    "for i in range (num):\n",
    "    x = input('enter the alphabet in the list ')\n",
    "    l2 = l1.append(x)\n",
    "    \n",
    "sorting_list = sorted(l2)\n",
    "print(sorting_list)"
   ]
  }
 ],
 "metadata": {
  "kernelspec": {
   "display_name": "base",
   "language": "python",
   "name": "python3"
  },
  "language_info": {
   "codemirror_mode": {
    "name": "ipython",
    "version": 3
   },
   "file_extension": ".py",
   "mimetype": "text/x-python",
   "name": "python",
   "nbconvert_exporter": "python",
   "pygments_lexer": "ipython3",
   "version": "3.11.4"
  },
  "orig_nbformat": 4
 },
 "nbformat": 4,
 "nbformat_minor": 2
}
