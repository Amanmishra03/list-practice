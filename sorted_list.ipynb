{
 "cells": [
  {
   "cell_type": "markdown",
   "metadata": {},
   "source": [
    "Write a program that creates a list of strings and then sorts the list alphabetically. Print the sorted list."
   ]
  },
  {
   "cell_type": "code",
   "execution_count": 3,
   "metadata": {},
   "outputs": [
    {
     "name": "stdout",
     "output_type": "stream",
     "text": [
      "['Adarsh', 'Aman', 'Amjad', 'Bhuvan', 'Chaman', 'Zakir']\n"
     ]
    }
   ],
   "source": [
    "l1 = ['Bhuvan','Zakir','Chaman','Adarsh','Amjad','Aman']\n",
    "l2 = sorted(l1)\n",
    "print(l2)"
   ]
  },
  {
   "cell_type": "code",
   "execution_count": 6,
   "metadata": {},
   "outputs": [
    {
     "name": "stdout",
     "output_type": "stream",
     "text": [
      "['9', '8', '7', '68', '98']\n",
      "<class 'list'>\n"
     ]
    }
   ],
   "source": [
    "l1 = []\n",
    "num = int(input('enter the number you want in list '))\n",
    "\n",
    "for i in range (0,num):\n",
    "    x = input('enter the number in the list ')\n",
    "    l2 = l1.append(x)\n",
    "    \n",
    "sorting_list = sorted(l1)\n",
    "print(l1)\n",
    "print(type(l1))"
   ]
  }
 ],
 "metadata": {
  "kernelspec": {
   "display_name": "base",
   "language": "python",
   "name": "python3"
  },
  "language_info": {
   "codemirror_mode": {
    "name": "ipython",
    "version": 3
   },
   "file_extension": ".py",
   "mimetype": "text/x-python",
   "name": "python",
   "nbconvert_exporter": "python",
   "pygments_lexer": "ipython3",
   "version": "3.11.4"
  },
  "orig_nbformat": 4
 },
 "nbformat": 4,
 "nbformat_minor": 2
}
