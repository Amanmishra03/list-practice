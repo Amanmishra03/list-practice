{
 "cells": [
  {
   "cell_type": "markdown",
   "metadata": {},
   "source": [
    "Write a program that creates a list of integers and then calculates the average of all the numbers in the list. Print the average."
   ]
  },
  {
   "cell_type": "code",
   "execution_count": 2,
   "metadata": {},
   "outputs": [
    {
     "name": "stdout",
     "output_type": "stream",
     "text": [
      "[6, 3, 5, 2, 4]\n",
      "20\n",
      "4.0\n"
     ]
    }
   ],
   "source": [
    "l1 = []\n",
    "user = int(input('enter the number '))\n",
    "\n",
    "for i in range(user):\n",
    "    x = int(input('enter the number '))\n",
    "    l1.append(x)\n",
    "    l2 = sum(l1)\n",
    "    len(l1)\n",
    "\n",
    "length = len(l1)  \n",
    "print(l1)\n",
    "print(l2)\n",
    "average = l2/length\n",
    "print(average)"
   ]
  }
 ],
 "metadata": {
  "kernelspec": {
   "display_name": "base",
   "language": "python",
   "name": "python3"
  },
  "language_info": {
   "codemirror_mode": {
    "name": "ipython",
    "version": 3
   },
   "file_extension": ".py",
   "mimetype": "text/x-python",
   "name": "python",
   "nbconvert_exporter": "python",
   "pygments_lexer": "ipython3",
   "version": "3.11.4"
  },
  "orig_nbformat": 4
 },
 "nbformat": 4,
 "nbformat_minor": 2
}
