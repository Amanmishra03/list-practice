{
 "cells": [
  {
   "cell_type": "markdown",
   "metadata": {},
   "source": [
    "Write a program that uses the map function to create a new list that contains the length of each string in a user inputted list of strings."
   ]
  },
  {
   "cell_type": "code",
   "execution_count": 3,
   "metadata": {},
   "outputs": [
    {
     "name": "stdout",
     "output_type": "stream",
     "text": [
      "['aman', 'adarsh', 'bhuvan']\n",
      "[4, 6, 6]\n"
     ]
    }
   ],
   "source": [
    "l1 = []\n",
    "user = int(input('enter the no. you want in list '))\n",
    "for i in range(user):\n",
    "    x = input('enter the string ')\n",
    "    l1.append(x)\n",
    "print(l1)\n",
    "f = list(map(lambda x: len(x),l1))\n",
    "print(f)"
   ]
  }
 ],
 "metadata": {
  "kernelspec": {
   "display_name": "base",
   "language": "python",
   "name": "python3"
  },
  "language_info": {
   "codemirror_mode": {
    "name": "ipython",
    "version": 3
   },
   "file_extension": ".py",
   "mimetype": "text/x-python",
   "name": "python",
   "nbconvert_exporter": "python",
   "pygments_lexer": "ipython3",
   "version": "3.11.4"
  }
 },
 "nbformat": 4,
 "nbformat_minor": 2
}
