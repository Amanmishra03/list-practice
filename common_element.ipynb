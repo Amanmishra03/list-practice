{
 "cells": [
  {
   "cell_type": "markdown",
   "metadata": {},
   "source": [
    "Write a program that creates two lists of integers and then finds the common elements between those two lists. Print the common elements."
   ]
  },
  {
   "cell_type": "code",
   "execution_count": 1,
   "metadata": {},
   "outputs": [
    {
     "name": "stdout",
     "output_type": "stream",
     "text": [
      "Common elements between list1 and list2: [3, 4, 5]\n"
     ]
    }
   ],
   "source": [
    "list1 = [1, 2, 3, 4, 5]\n",
    "list2 = [3, 4, 5, 6, 7]\n",
    "\n",
    "\n",
    "common_elements = []\n",
    "\n",
    "for element in list1:\n",
    "    if element in list2:\n",
    "        common_elements.append(element)\n",
    "\n",
    "\n",
    "print(\"Common elements between list1 and list2:\", common_elements)\n"
   ]
  },
  {
   "cell_type": "code",
   "execution_count": 4,
   "metadata": {},
   "outputs": [
    {
     "name": "stdout",
     "output_type": "stream",
     "text": [
      "[2, 3, 5, 6, 4]\n",
      "[8, 2, 3, 5, 4]\n",
      "[2, 3, 5, 4]\n"
     ]
    }
   ],
   "source": [
    "l1 = []\n",
    "l2 = []\n",
    "common_element = []\n",
    "\n",
    "num1 = int(input('enter the number you want in list '))\n",
    "num2 = int(input('enter the number you want in list '))\n",
    "\n",
    "for i in range(num1):\n",
    "    x = int(input('enter the number '))\n",
    "    l1.append(x)\n",
    "    \n",
    "for i in range(num2):\n",
    "    y = int(input('enter the number '))\n",
    "    l2.append(y)\n",
    "    \n",
    "print(l1)\n",
    "print(l2)\n",
    "\n",
    "for element in l1:\n",
    "    if element in l2:\n",
    "        common_element.append(element)\n",
    "\n",
    "print(common_element)"
   ]
  }
 ],
 "metadata": {
  "kernelspec": {
   "display_name": "base",
   "language": "python",
   "name": "python3"
  },
  "language_info": {
   "codemirror_mode": {
    "name": "ipython",
    "version": 3
   },
   "file_extension": ".py",
   "mimetype": "text/x-python",
   "name": "python",
   "nbconvert_exporter": "python",
   "pygments_lexer": "ipython3",
   "version": "3.11.4"
  },
  "orig_nbformat": 4
 },
 "nbformat": 4,
 "nbformat_minor": 2
}
