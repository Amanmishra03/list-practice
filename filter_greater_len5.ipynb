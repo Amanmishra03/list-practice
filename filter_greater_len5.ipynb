{
 "cells": [
  {
   "cell_type": "markdown",
   "metadata": {},
   "source": [
    "Write a program that uses the filter function to create a new list that contains only the strings with a length greater than 5 from a user inputted list of strings."
   ]
  },
  {
   "cell_type": "code",
   "execution_count": 1,
   "metadata": {},
   "outputs": [
    {
     "name": "stdout",
     "output_type": "stream",
     "text": [
      "['ashraf', 'aman', 'bhuvan', 'adarsh', 'anup']\n",
      "['ashraf', 'bhuvan', 'adarsh']\n"
     ]
    }
   ],
   "source": [
    "l1 = []\n",
    "user = int(input('enter the no. you want in list '))\n",
    "for i in range(user):\n",
    "    x = input('enter the string you want ')\n",
    "    l1.append(x)\n",
    "print(l1)\n",
    "f = list(filter(lambda m: len(m)>5, l1))\n",
    "print(f)"
   ]
  }
 ],
 "metadata": {
  "kernelspec": {
   "display_name": "base",
   "language": "python",
   "name": "python3"
  },
  "language_info": {
   "codemirror_mode": {
    "name": "ipython",
    "version": 3
   },
   "file_extension": ".py",
   "mimetype": "text/x-python",
   "name": "python",
   "nbconvert_exporter": "python",
   "pygments_lexer": "ipython3",
   "version": "3.11.4"
  }
 },
 "nbformat": 4,
 "nbformat_minor": 2
}
