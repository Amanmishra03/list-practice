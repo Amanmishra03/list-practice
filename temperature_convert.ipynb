{
 "cells": [
  {
   "cell_type": "markdown",
   "metadata": {},
   "source": [
    "Write a program that uses a lambda expression and the map function to convert a list of Celsius temperatures to a list of Fahrenheit temperatures. Print the new list."
   ]
  },
  {
   "cell_type": "code",
   "execution_count": null,
   "metadata": {},
   "outputs": [],
   "source": [
    "l1 = []\n",
    "user = int(input('enter the number of list you want in list'))\n",
    "for i in range(user):\n",
    "    x = int(input('enter the number '))\n",
    "    l1.append(x)\n",
    "print(l1)\n",
    "f = lambda c: c * 9/5 + 32\n",
    "print(f(l1))\n",
    "    "
   ]
  },
  {
   "cell_type": "code",
   "execution_count": 2,
   "metadata": {},
   "outputs": [
    {
     "name": "stdout",
     "output_type": "stream",
     "text": [
      "[42.8, 41.0, 39.2]\n"
     ]
    }
   ],
   "source": [
    "l2 = []\n",
    "user = int(input('enter the number of list you want in list'))\n",
    "for i in range(user):\n",
    "    x = int(input('enter the number '))\n",
    "    l2.append(x)\n",
    "fahrenheit_temperatures = list(map(lambda c: (c * 9/5) + 32, l2))\n",
    "print(fahrenheit_temperatures)\n",
    "    "
   ]
  },
  {
   "cell_type": "code",
   "execution_count": 1,
   "metadata": {},
   "outputs": [
    {
     "name": "stdout",
     "output_type": "stream",
     "text": [
      "Celsius Temperatures: [10.0]\n",
      "Fahrenheit Temperatures: [50.0]\n"
     ]
    }
   ],
   "source": [
    "# Take user input for a list of Celsius temperatures\n",
    "celsius_temperatures = input(\"Enter a list of Celsius temperatures separated by spaces: \").split()\n",
    "\n",
    "# Convert input values to floats\n",
    "celsius_temperatures = list(map(float, celsius_temperatures))\n",
    "\n",
    "# Convert Celsius to Fahrenheit using a lambda expression and map\n",
    "fahrenheit_temperatures = list(map(lambda c: (c * 9/5) + 32, celsius_temperatures))\n",
    "\n",
    "# Print the new list of Fahrenheit temperatures\n",
    "print(\"Celsius Temperatures:\", celsius_temperatures)\n",
    "print(\"Fahrenheit Temperatures:\", fahrenheit_temperatures)\n"
   ]
  }
 ],
 "metadata": {
  "kernelspec": {
   "display_name": "base",
   "language": "python",
   "name": "python3"
  },
  "language_info": {
   "codemirror_mode": {
    "name": "ipython",
    "version": 3
   },
   "file_extension": ".py",
   "mimetype": "text/x-python",
   "name": "python",
   "nbconvert_exporter": "python",
   "pygments_lexer": "ipython3",
   "version": "3.11.4"
  }
 },
 "nbformat": 4,
 "nbformat_minor": 2
}
