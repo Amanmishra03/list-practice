{
 "cells": [
  {
   "cell_type": "markdown",
   "metadata": {},
   "source": [
    "Write a program that uses a lambda expression and the map function to convert a list of Celsius temperatures to a list of Fahrenheit temperatures. Print the new list."
   ]
  },
  {
   "cell_type": "code",
   "execution_count": null,
   "metadata": {},
   "outputs": [],
   "source": [
    "l1 = []\n",
    "user = int(input('enter the number of list you want in list'))\n",
    "for i in range(user):\n",
    "    x = int(input('enter the number '))\n",
    "    "
   ]
  }
 ],
 "metadata": {
  "language_info": {
   "name": "python"
  }
 },
 "nbformat": 4,
 "nbformat_minor": 2
}
