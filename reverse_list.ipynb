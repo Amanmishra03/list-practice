{
 "cells": [
  {
   "cell_type": "markdown",
   "metadata": {},
   "source": [
    "Write a program that creates a list of strings and then reverses the order of the strings in the list. Print the reversed list."
   ]
  },
  {
   "cell_type": "code",
   "execution_count": 2,
   "metadata": {},
   "outputs": [
    {
     "name": "stdout",
     "output_type": "stream",
     "text": [
      "[1, 5, 6, 3, 2]\n",
      "[2, 3, 6, 5, 1]\n"
     ]
    }
   ],
   "source": [
    "l1 = []\n",
    "user = int(input('enter how many number you want to print '))\n",
    "\n",
    "for i in range(user):\n",
    "    x = int(input('enter the number '))\n",
    "    l1.append(x)\n",
    "\n",
    "print(l1)\n",
    "reversed_list = l1[::-1]\n",
    "print(reversed_list)"
   ]
  }
 ],
 "metadata": {
  "kernelspec": {
   "display_name": "base",
   "language": "python",
   "name": "python3"
  },
  "language_info": {
   "codemirror_mode": {
    "name": "ipython",
    "version": 3
   },
   "file_extension": ".py",
   "mimetype": "text/x-python",
   "name": "python",
   "nbconvert_exporter": "python",
   "pygments_lexer": "ipython3",
   "version": "3.11.4"
  },
  "orig_nbformat": 4
 },
 "nbformat": 4,
 "nbformat_minor": 2
}
