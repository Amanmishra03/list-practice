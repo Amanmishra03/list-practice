{
 "cells": [
  {
   "cell_type": "markdown",
   "metadata": {},
   "source": [
    "Write a program that creates a list of integers and then finds the sum of all the even numbers in the list. Print the sum."
   ]
  },
  {
   "cell_type": "code",
   "execution_count": 8,
   "metadata": {},
   "outputs": [
    {
     "name": "stdout",
     "output_type": "stream",
     "text": [
      "[4, 6, 3, 2, 1]\n",
      "12\n"
     ]
    }
   ],
   "source": [
    "l1 = []\n",
    "even_sum = 0\n",
    "\n",
    "user = int(input('enter the number of list you want '))\n",
    "\n",
    "for i in  range(user):\n",
    "    x = int(input('enter the number '))\n",
    "    l1.append(x)\n",
    "print(l1)\n",
    "\n",
    "for num in l1:\n",
    "    if num % 2 == 0:\n",
    "        even_sum += num\n",
    "print(even_sum)"
   ]
  }
 ],
 "metadata": {
  "kernelspec": {
   "display_name": "base",
   "language": "python",
   "name": "python3"
  },
  "language_info": {
   "codemirror_mode": {
    "name": "ipython",
    "version": 3
   },
   "file_extension": ".py",
   "mimetype": "text/x-python",
   "name": "python",
   "nbconvert_exporter": "python",
   "pygments_lexer": "ipython3",
   "version": "3.11.4"
  },
  "orig_nbformat": 4
 },
 "nbformat": 4,
 "nbformat_minor": 2
}
